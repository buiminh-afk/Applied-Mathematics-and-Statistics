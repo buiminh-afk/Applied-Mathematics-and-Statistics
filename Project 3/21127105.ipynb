{
 "cells": [
  {
   "cell_type": "markdown",
   "metadata": {},
   "source": [
    "# <center>Đồ án 3: Linear Regression</center>"
   ]
  },
  {
   "cell_type": "markdown",
   "metadata": {},
   "source": [
    "# Thông tin sinh viên\n",
    "\n",
    "- Họ và tên: Bùi Nguyễn Nhật Minh\n",
    "- MSSV: 21127105\n",
    "- Lớp: 21CLC08"
   ]
  },
  {
   "cell_type": "markdown",
   "metadata": {},
   "source": [
    "# Import"
   ]
  },
  {
   "cell_type": "code",
   "execution_count": 18,
   "metadata": {},
   "outputs": [],
   "source": [
    "import pandas as pd\n",
    "import numpy as np\n",
    "\n",
    "# Import thêm dữ thư viện nếu cần\n",
    "import matplotlib.pyplot as plt\n",
    "import seaborn as sns\n",
    "from sklearn.model_selection import KFold"
   ]
  },
  {
   "cell_type": "markdown",
   "metadata": {},
   "source": [
    "# Đọc dữ liệu"
   ]
  },
  {
   "cell_type": "code",
   "execution_count": 19,
   "metadata": {},
   "outputs": [],
   "source": [
    "# Đọc dữ liệu bằng pandas\n",
    "train = pd.read_csv('train.csv')\n",
    "test = pd.read_csv('test.csv')\n",
    "\n",
    "# Lấy các đặc trưng X và giá trị mục tiêu y cho các tập huấn luyện (train) và kiểm tra (test)\n",
    "X_train = train.iloc[:, :-1]    # Dataframe (chứa các đặc trưng huấn luyện)\n",
    "y_train = train.iloc[:, -1]     # Series    (chứa 1 giá trị mục tiêu kiểm tra)\n",
    "\n",
    "X_test = test.iloc[:, :-1]      # Dataframe (chứa các đặc trưng kiểm tra)\n",
    "y_test = test.iloc[:, -1]       # Series    (chứa 1 giá trị mục tiêu kiểm tra)\n",
    "\n",
    "# Sinh viên có thể sử dụng các khác nếu cần"
   ]
  },
  {
   "cell_type": "markdown",
   "metadata": {},
   "source": [
    "# Cài đặt hàm"
   ]
  },
  {
   "cell_type": "code",
   "execution_count": 20,
   "metadata": {},
   "outputs": [],
   "source": [
    "# Cài đặt các hàm cần thiết ở đây\n",
    "\n",
    "# code hồi quy tuyến tính trong bài trước\n",
    "class OLSLinearRegression:\n",
    "    def fit(self, X, y):\n",
    "        X_pinv = np.linalg.inv(X.T @ X) @ X.T    # np.linalg.pinv(X)\n",
    "        self.w = X_pinv @ y\n",
    "\n",
    "        return self\n",
    "\n",
    "\n",
    "    def get_params(self):\n",
    "        return self.w\n",
    "\n",
    "\n",
    "    def predict(self, X):\n",
    "        return np.sum(self.w.ravel() * X, axis=1)   \n",
    "\n",
    "# hàm MAE từ bài trước\n",
    "def mae(y, y_hat):\n",
    "    return np.mean(np.abs(y.ravel() - y_hat.ravel()))\n",
    "\n",
    "def preprocess(x):\n",
    "    X = np.hstack((np.ones((x.shape[0], 1)), x))\n",
    "    return X"
   ]
  },
  {
   "cell_type": "markdown",
   "metadata": {},
   "source": [
    "# Yêu cầu 1a: Sử dụng toàn bộ 11 đặc trưng đầu tiên `Gender`, `10percentage`, `12percentage`, `CollegeTier`, `Degree`, `collegeGPA`, `CollegeCityTier`, `English`, `Logical`, `Quant`, `Domain` (2 điểm) "
   ]
  },
  {
   "cell_type": "code",
   "execution_count": 21,
   "metadata": {},
   "outputs": [
    {
     "name": "stdout",
     "output_type": "stream",
     "text": [
      "[ 49248.08973674 -23183.32950746    702.76679168   1259.01878787\n",
      " -99570.60814072  18369.96245081   1297.53200035  -8836.72712321\n",
      "    141.75993906    145.74234653    114.64331341  34955.75040842]\n"
     ]
    }
   ],
   "source": [
    "# Phần code cho yêu cầu 1a\n",
    "#lấy dữ liệu\n",
    "X_train_1a = X_train.iloc[:,:11]\n",
    "y_train_1a = y_train[:]\n",
    "\n",
    "X_test_1a = X_test.iloc[:, :11]      \n",
    "y_test_1a = y_test.iloc[:]\n",
    "\n",
    "X_test_1a =preprocess(X_test_1a)\n",
    "X_train_1a = preprocess(X_train_1a)\n",
    "\n",
    "model = OLSLinearRegression().fit(X_train_1a, y_train_1a)\n",
    "print(model.get_params())\n"
   ]
  },
  {
   "cell_type": "code",
   "execution_count": 22,
   "metadata": {},
   "outputs": [
    {
     "name": "stdout",
     "output_type": "stream",
     "text": [
      "MAE: 105052.52978843228\n"
     ]
    }
   ],
   "source": [
    "# Gọi hàm MAE (tự cài đặt hoặc từ thư viện) trên tập kiểm tra\n",
    "y_hat = model.predict(X_test_1a)\n",
    "print('MAE:', mae(y_test_1a, y_hat))"
   ]
  },
  {
   "cell_type": "markdown",
   "metadata": {},
   "source": [
    "Công thức hồi quy (phần trọng số làm tròn đến 3 chữ số thập phân, ví dụ 0.012345 $\\to$ 0.012)\n",
    "\n",
    "$$\n",
    "\\text{Salary} = 49248.089 -23183.329 \\times \\text{Gender} + 702.766 \\times \\text{10percentage} + 1259.018 \\times \\text{12percentage} \\\\ - 99570.608 \\times \\text{CollegeTier} + 18369.962 \\times \\text{Degree}\n",
    "+ 1297.532 \\times \\text{collegeGPA} \\\\ - 8836.727 \\times \\text{CollegeCityTier} + 141.759 \\times \\text{English}\n",
    "+ 145.742 \\times \\text{Logical} \\\\ + 114.643 \\times \\text{Quant} + 34955.750 \\times \\text{Domain}\n",
    "$$"
   ]
  },
  {
   "cell_type": "markdown",
   "metadata": {},
   "source": [
    "# Yêu cầu 1b: Xây dựng mô hình sử dụng duy nhất 1 đặc trưng tính cách với các đặc trưng tính cách gồm `conscientiousness`, `agreeableness`, `extraversion`, `nueroticism`, `openess_to_experience`, tìm mô hình cho kết quả tốt nhất (1 điểm)"
   ]
  },
  {
   "cell_type": "markdown",
   "metadata": {},
   "source": [
    "Lưu ý: khi sử dụng cross-validation, sinh viên cần xáo trộn dữ liệu 1 lần duy nhất và thực hiện trên toàn bộ đặc trưng"
   ]
  },
  {
   "cell_type": "code",
   "execution_count": 23,
   "metadata": {},
   "outputs": [
    {
     "name": "stdout",
     "output_type": "stream",
     "text": [
      "The best personality is: nueroticism\n",
      "                 Feature            MAE\n",
      "0            nueroticism  123473.399787\n",
      "1          agreeableness  123706.054730\n",
      "2           extraversion  123809.926200\n",
      "3  openess_to_experience  123818.333575\n",
      "4      conscientiousness  124182.563823\n"
     ]
    }
   ],
   "source": [
    "# Phần code cho yêu cầu 1b\n",
    "# Tìm ra đặc trưng tốt nhất\n",
    "# In ra các kết quả cross-validation như yêu cầu\n",
    "\n",
    "# Đọc dữ liệu\n",
    "features = ['conscientiousness', 'agreeableness', 'extraversion', 'nueroticism', 'openess_to_experience']\n",
    "\n",
    "# Khởi tạo mô hình quy hồi tuyến tính\n",
    "model = OLSLinearRegression()\n",
    "\n",
    "# Số lượng fold\n",
    "num_folds = 5\n",
    "\n",
    "# Cross-validation\n",
    "kf = KFold(n_splits=num_folds, shuffle=True, random_state=42)\n",
    "list_mae = []\n",
    "\n",
    "for feature in features:\n",
    "    sum_mae = 0\n",
    "    \n",
    "    # Chọn cột tương ứng với feature đang xét\n",
    "    X_train_feature = X_train[[feature]]\n",
    "    X_train_feature_pre = preprocess(X_train_feature)\n",
    "    for train_index, test_index in kf.split(X_train_feature_pre):\n",
    "        train_X, test_X = X_train_feature_pre[train_index], X_train_feature_pre[test_index]\n",
    "        train_y, test_y = y_train.iloc[train_index], y_train.iloc[test_index]\n",
    "        \n",
    "        model.fit(train_X, train_y)\n",
    "        \n",
    "        y_pred = model.predict(test_X)\n",
    "        \n",
    "        sum_mae += mae(test_y, y_pred)\n",
    "    \n",
    "    avg_mae = sum_mae / num_folds\n",
    "    list_mae.append([feature, avg_mae])\n",
    "\n",
    "sorted_mae = sorted(list_mae, key=lambda x: x[1])\n",
    "min_mae = sorted_mae[0]\n",
    "print('The best personality is:', min_mae[0])\n",
    "\n",
    "prediction = pd.DataFrame(sorted_mae, columns=['Feature', 'MAE'])\n",
    "print(prediction)\n",
    "\n"
   ]
  },
  {
   "cell_type": "code",
   "execution_count": 24,
   "metadata": {},
   "outputs": [
    {
     "name": "stdout",
     "output_type": "stream",
     "text": [
      "[304647.55255226 -16021.49366179]\n"
     ]
    }
   ],
   "source": [
    "# Huấn luyện lại mô hình best_personality_feature_model với đặc trưng tốt nhất trên toàn bộ tập huấn luyện\n",
    "\n",
    "#lấy đặc trưng tốt nhất\n",
    "X_train_best = X_train[min_mae[0]].values.reshape(-1, 1)\n",
    "X_train_best_pre = preprocess(X_train_best)\n",
    "\n",
    "best_personality_feature_model = OLSLinearRegression().fit(X_train_best_pre, y_train)\n",
    "print(best_personality_feature_model.get_params())"
   ]
  },
  {
   "cell_type": "code",
   "execution_count": 25,
   "metadata": {},
   "outputs": [
    {
     "name": "stdout",
     "output_type": "stream",
     "text": [
      "MAE: 119361.91739987818\n"
     ]
    }
   ],
   "source": [
    "# Gọi hàm MAE (tự cài đặt hoặc từ thư viện) trên tập kiểm tra với mô hình best_personality_feature_model\n",
    "X_test_best = X_test[min_mae[0]].values.reshape(-1, 1)\n",
    "X_test_best_pre = preprocess(X_test_best)\n",
    "y_hat_best = best_personality_feature_model.predict(X_test_best_pre)\n",
    "print('MAE:', mae(y_test, y_hat_best))"
   ]
  },
  {
   "cell_type": "markdown",
   "metadata": {},
   "source": [
    "Công thức hồi quy (phần trọng số làm tròn đến 3 chữ số thập phân, ví dụ 0.012345 $\\to$ 0.012)\n",
    "\n",
    "$$\\text{Salary} = 304647.552 - 16021.493\\times \\text{nueroticism  }"
   ]
  },
  {
   "cell_type": "markdown",
   "metadata": {},
   "source": [
    "# Yêu cầu 1c: Xây dựng mô hình sử dụng duy nhất 1 đặc trưng `English`, `Logical`, `Quant`, tìm mô hình cho kết quả tốt nhất (1 điểm)"
   ]
  },
  {
   "cell_type": "markdown",
   "metadata": {},
   "source": [
    "Lưu ý: khi sử dụng cross-validation, sinh viên cần xáo trộn dữ liệu 1 lần duy nhất và thực hiện trên toàn bộ đặc trưng"
   ]
  },
  {
   "cell_type": "code",
   "execution_count": 26,
   "metadata": {},
   "outputs": [
    {
     "name": "stdout",
     "output_type": "stream",
     "text": [
      "The best skill feature is: Quant\n",
      "   Feature            MAE\n",
      "0    Quant  117353.838031\n",
      "1  Logical  119932.503599\n",
      "2  English  120728.603666\n"
     ]
    }
   ],
   "source": [
    "# Phần code cho yêu cầu 1c\n",
    "# Tìm ra đặc trưng tốt nhất\n",
    "# In ra các kết quả cross-validation như yêu cầu\n",
    "\n",
    "\n",
    "features = ['English', 'Logical', 'Quant']\n",
    "\n",
    "# Khởi tạo mô hình quy hồi tuyến tính\n",
    "model = OLSLinearRegression()\n",
    "\n",
    "# Số lượng fold\n",
    "num_folds = 5\n",
    "\n",
    "# Cross-validation\n",
    "kf = KFold(n_splits=num_folds, shuffle=True, random_state=42)\n",
    "\n",
    "list_mae = []\n",
    "\n",
    "for feature in features:\n",
    "    sum_mae = 0\n",
    "    \n",
    "    # Chọn cột tương ứng với feature đang xét\n",
    "    X_train_feature = X_train[[feature]]\n",
    "    X_train_feature_pre = preprocess(X_train_feature)\n",
    "    for train_index, test_index in kf.split(X_train_feature_pre):\n",
    "        train_X, test_X = X_train_feature_pre[train_index], X_train_feature_pre[test_index]\n",
    "        train_y, test_y = y_train.iloc[train_index], y_train.iloc[test_index]\n",
    "        \n",
    "        model.fit(train_X, train_y)\n",
    "        \n",
    "        y_pred = model.predict(test_X)\n",
    "        \n",
    "        sum_mae += mae(test_y, y_pred)\n",
    "    \n",
    "    avg_mae = sum_mae / num_folds\n",
    "    list_mae.append([feature, avg_mae])\n",
    "\n",
    "sorted_mae = sorted(list_mae, key=lambda x: x[1])\n",
    "min_mae = sorted_mae[0]\n",
    "print('The best skill feature is:', min_mae[0])\n",
    "\n",
    "prediction = pd.DataFrame(sorted_mae, columns=['Feature', 'MAE'])\n",
    "print(prediction)\n",
    "\n"
   ]
  },
  {
   "cell_type": "code",
   "execution_count": 27,
   "metadata": {},
   "outputs": [
    {
     "name": "stdout",
     "output_type": "stream",
     "text": [
      "[117759.72931231    368.85246384]\n"
     ]
    }
   ],
   "source": [
    "# Huấn luyện lại mô hình best_skill_feature_model với đặc trưng tốt nhất trên toàn bộ tập huấn luyện\n",
    "\n",
    "#lấy đặc trưng tốt nhất\n",
    "X_train_best = X_train[min_mae[0]].values.reshape(-1, 1)\n",
    "X_train_best_pre = preprocess(X_train_best)\n",
    "\n",
    "best_skill_feature_model = OLSLinearRegression().fit(X_train_best_pre, y_train)\n",
    "print(best_skill_feature_model.get_params())\n"
   ]
  },
  {
   "cell_type": "code",
   "execution_count": 28,
   "metadata": {},
   "outputs": [
    {
     "name": "stdout",
     "output_type": "stream",
     "text": [
      "MAE: 108814.0596883719\n"
     ]
    }
   ],
   "source": [
    "# Gọi hàm MAE (tự cài đặt hoặc từ thư viện) trên tập kiểm tra với mô hình best_skill_feature_model\n",
    "X_test_best = X_test[min_mae[0]].values.reshape(-1, 1)\n",
    "X_test_best_pre = preprocess(X_test_best)\n",
    "y_hat_best = best_skill_feature_model.predict(X_test_best_pre)\n",
    "print('MAE:', mae(y_test, y_hat_best))\n"
   ]
  },
  {
   "cell_type": "markdown",
   "metadata": {},
   "source": [
    "Công thức hồi quy (phần trọng số làm tròn đến 3 chữ số thập phân, ví dụ 0.012345 $\\to$ 0.012)\n",
    "\n",
    "$$\\text{Salary} = 117759.729 + 368.852 \\times \\text{Quant}"
   ]
  },
  {
   "cell_type": "markdown",
   "metadata": {},
   "source": [
    "# Yêu cầu 1d: Sinh viên tự xây dựng mô hình, tìm mô hình cho kết quả tốt nhất (3 điểm)"
   ]
  },
  {
   "cell_type": "markdown",
   "metadata": {},
   "source": [
    "Lưu ý: khi sử dụng cross-validation, sinh viên cần xáo trộn dữ liệu 1 lần duy nhất và thực hiện trên toàn bộ $m$ mô hình mà sinh viên thiết kế"
   ]
  },
  {
   "cell_type": "markdown",
   "metadata": {},
   "source": [
    "## Tìm mô hình"
   ]
  },
  {
   "cell_type": "code",
   "execution_count": 29,
   "metadata": {},
   "outputs": [
    {
     "data": {
      "image/png": "[encoded data removed]",
      "text/plain": [
       "<Figure size 1500x1000 with 2 Axes>"
      ]
     },
     "metadata": {},
     "output_type": "display_data"
    }
   ],
   "source": [
    "# Trình bày các phần tìm ra mô hình\n",
    "\n",
    "# Tạo ma trận tương quan giữa các đặc trưng và biến mục tiêu\n",
    "correlations_with_salary = X_train.corrwith(y_train)\n",
    "\n",
    "# Tạo DataFrame từ Series\n",
    "correlations_df = pd.DataFrame(correlations_with_salary, columns=['Correlation with Salary'])\n",
    "\n",
    "# Sắp xếp theo mức độ tương quan giảm dần\n",
    "correlations_df = correlations_df.sort_values(by='Correlation with Salary', ascending=False)\n",
    "\n",
    "# Vẽ biểu đồ heatmap\n",
    "fig, ax = plt.subplots(figsize=(15, 10))\n",
    "sns.heatmap(correlations_df.transpose(), cmap=\"coolwarm\", annot=True, fmt=\".2f\", ax=ax)\n",
    "\n",
    "plt.title(\"Correlation with Salary\")\n",
    "plt.show()"
   ]
  },
  {
   "cell_type": "markdown",
   "metadata": {},
   "source": [
    "## Thử nghiệm, so sánh các mô hình"
   ]
  },
  {
   "cell_type": "code",
   "execution_count": 30,
   "metadata": {},
   "outputs": [
    {
     "name": "stdout",
     "output_type": "stream",
     "text": [
      "Mô hình tốt nhất là : model_2\n",
      "     Model            MAE\n",
      "0  model_2  113495.912676\n",
      "1  model_1  113637.708040\n",
      "2  model_3  115092.132855\n"
     ]
    }
   ],
   "source": [
    "# Phần code cho yêu cầu 1d\n",
    "# Tìm ra mô hình tốt nhất (tự thiết kế bởi sinh viên)\n",
    "# In ra các kết quả cross-validation như yêu cầu\n",
    "\n",
    "# MÔ HÌNH 1 -----------------------------------\n",
    "def model_1():\n",
    "        X_train_new = X_train.iloc[:, 1:11].copy()\n",
    "        X_train_new['Quant_nueroticism'] = X_train['Quant'] * X_train['nueroticism']\n",
    "        X_train_new = preprocess(X_train_new)\n",
    "\n",
    "        X_test_new = X_test.iloc[:, 1:11].copy()\n",
    "        X_test_new['Quant_nueroticism'] = X_test['Quant'] * X_test['nueroticism']\n",
    "        X_test_new = preprocess(X_test_new)\n",
    "\n",
    "        return X_train_new, X_test_new\n",
    "# ---------------------------------------------\n",
    "\n",
    "# MÔ HÌNH 2 -----------------------------------\n",
    "def model_2():\n",
    "        features_2 = [        \n",
    "                \"10percentage\",\n",
    "                \"12percentage\",\n",
    "                \"CollegeTier\",\n",
    "                \"Degree\",\n",
    "                \"collegeGPA\",\n",
    "                \"CollegeCityTier\",\n",
    "                \"English\",\n",
    "                \"Logical\",\n",
    "                \"Quant\",\n",
    "                \"Domain\",\n",
    "                \"ComputerProgramming\",\n",
    "                \"openess_to_experience\"\n",
    "        ]\n",
    "\n",
    "        X_train_new = X_train[features_2].copy()\n",
    "        X_train_new['nueroticism_cubed'] = X_train['nueroticism'] ** 3\n",
    "        X_train_new['Quant_nueroticism'] = X_train['Quant'] * X_train['nueroticism']\n",
    "        X_train_new = preprocess(X_train_new)\n",
    "\n",
    "        X_test_new = X_test[features_2].copy()\n",
    "        X_test_new['nueroticism_cubed'] = X_test['nueroticism'] ** 3\n",
    "        X_test_new['Quant_nueroticism'] = X_test['Quant'] * X_test['nueroticism']\n",
    "        X_test_new = preprocess(X_test_new)\n",
    "\n",
    "        return X_train_new, X_test_new\n",
    "# ---------------------------------------------\n",
    "\n",
    "# MÔ HÌNH 3 -----------------------------------\n",
    "def model_3():\n",
    "        feature_3 = [        \n",
    "                \"10percentage\",\n",
    "                \"English\",\n",
    "                \"Logical\",\n",
    "                \"Quant\",\n",
    "                \"nueroticism\"\n",
    "        ]\n",
    "\n",
    "        X_train_new = X_train[feature_3].copy()\n",
    "        X_train_new['nueroticism_cubed'] = X_train['nueroticism'] ** 3\n",
    "        X_train_new['Quant_cubed'] = X_train['Quant'] ** 3\n",
    "        X_train_new['Quant_square'] = X_train['Quant']**2\n",
    "        X_train_new['nueroticism_squarer'] = X_train['nueroticism']**2\n",
    "        X_train_new = preprocess(X_train_new)\n",
    "\n",
    "        X_test_new = X_test[feature_3].copy()\n",
    "        X_test_new['nueroticism_cubed'] = X_test['nueroticism'] ** 3\n",
    "        X_test_new['Quant_cubed'] = X_test['Quant'] ** 3\n",
    "        X_test_new['Quant_square'] = X_test['Quant']**2\n",
    "        X_test_new['nueroticism_squarer'] = X_test['nueroticism']**2\n",
    "        X_test_new = preprocess(X_test_new)\n",
    "        return X_train_new, X_test_new\n",
    "# ---------------------------------------------\n",
    "\n",
    "X_train_all_model, X_test_all_model = [], []\n",
    "# Mô hình 1\n",
    "X_train_new, X_test_new = model_1()\n",
    "X_train_all_model.append(X_train_new)\n",
    "X_test_all_model.append(X_test_new)\n",
    "\n",
    "# Mô hình 2\n",
    "X_train_new, X_test_new = model_2()\n",
    "X_train_all_model.append(X_train_new)\n",
    "X_test_all_model.append(X_test_new)\n",
    "\n",
    "# Mô hình 3\n",
    "X_train_new, X_test_new = model_3()\n",
    "X_train_all_model.append(X_train_new)\n",
    "X_test_all_model.append(X_test_new)\n",
    "\n",
    "# Khởi tạo mô hình\n",
    "model = OLSLinearRegression()\n",
    "\n",
    "# Số lượng fold\n",
    "num_folds = 5\n",
    "\n",
    "# Cross-validation\n",
    "kf = KFold(n_splits=num_folds, shuffle=True, random_state=42)\n",
    "\n",
    "list_mae = []\n",
    "index = 0\n",
    "for X_train_model in X_train_all_model:\n",
    "    index +=1\n",
    "    sum_mae = 0\n",
    "    for train_index, test_index in kf.split(X_train_model):\n",
    "        train_X, test_X = X_train_model[train_index], X_train_model[test_index]\n",
    "        train_y, test_y = y_train.iloc[train_index], y_train.iloc[test_index]\n",
    "        \n",
    "        model.fit(train_X, train_y)\n",
    "        y_pred = model.predict(test_X)\n",
    "        \n",
    "        fold_mae = mae(test_y, y_pred)\n",
    "        sum_mae += fold_mae\n",
    "\n",
    "    avg_mae = sum_mae / num_folds\n",
    "    list_mae.append([f\"model_{index}\",avg_mae])\n",
    "\n",
    "sorted_mae = sorted(list_mae, key=lambda x: x[1])\n",
    "min_mae = sorted_mae[0]\n",
    "print('Mô hình tốt nhất là :', min_mae[0])\n",
    "\n",
    "prediction = pd.DataFrame(sorted_mae, columns=['Model', 'MAE'])\n",
    "print(prediction)"
   ]
  },
  {
   "cell_type": "code",
   "execution_count": 31,
   "metadata": {},
   "outputs": [
    {
     "name": "stdout",
     "output_type": "stream",
     "text": [
      "54566.200\n",
      "628.517\n",
      "1140.334\n",
      "-100810.331\n",
      "12114.761\n",
      "1003.468\n",
      "-9897.619\n",
      "137.011\n",
      "119.559\n",
      "124.330\n",
      "25996.491\n",
      "68.762\n",
      "-4067.990\n",
      "698.259\n",
      "-12.170\n"
     ]
    }
   ],
   "source": [
    "# Huấn luyện lại mô hình my_best_model trên toàn bộ tập huấn luyện\n",
    "\n",
    "#lấy mô hình tốt nhất\n",
    "best_model_train, best_model_test = model_1()\n",
    "if min_mae[0] == 'model_2':\n",
    "  best_model_train, best_model_test = model_2()\n",
    "elif min_mae[0] == 'model_3':\n",
    "  best_model_train, best_model_test = model_3()\n",
    "\n",
    "my_best_model = OLSLinearRegression().fit(best_model_train, y_train)\n",
    "for co in my_best_model.get_params():\n",
    "    co = \"{:.3f}\".format(co)\n",
    "    print(co)"
   ]
  },
  {
   "cell_type": "code",
   "execution_count": 32,
   "metadata": {},
   "outputs": [
    {
     "name": "stdout",
     "output_type": "stream",
     "text": [
      "MAE: 104265.58564021446\n"
     ]
    }
   ],
   "source": [
    "# Gọi hàm MAE (tự cài đặt hoặc từ thư viện) trên tập kiểm tra với mô hình my_best_model\n",
    "y_hat_best = my_best_model.predict(best_model_test)\n",
    "print('MAE:', mae(y_test, y_hat_best))"
   ]
  },
  {
   "cell_type": "markdown",
   "metadata": {},
   "source": [
    "Công thức hồi quy (phần trọng số làm tròn đến 3 chữ số thập phân, ví dụ 0.012345 $\\to$ 0.012)\n",
    "\n",
    "$$\n",
    "\\text{Salary} = 54566.200 - 628.517 \\times \\text{10percentage} + 1140.334 \\times \\text{12percentage} - 100810.331 \\times \\text{CollegeTier} + 12114.761 \\times \\text{Degree} + 1003.468 \\times \\text{collegeGPA} \\\\\n",
    "- 9897.619 \\times \\text{CollegeCityTier} + 137.011 \\times \\text{English} + 119.559 \\times \\text{Logical}\n",
    "+ 124.330 \\times \\text{Quant} \\\\ + 25996.491 \\times \\text{Domain} + 68.762 \\times \\text{ComputerProgramming} - 4067.990 \\times \\text{openess to experience} + 698.259 \\times \\text{nueroticism cubed} \\\\ - 12.170 \\times \\text{Quant nueroticism}\n",
    "$$"
   ]
  }
 ],
 "metadata": {
  "kernelspec": {
   "display_name": "Python 3.8.5 ('base')",
   "language": "python",
   "name": "python3"
  },
  "language_info": {
   "codemirror_mode": {
    "name": "ipython",
    "version": 3
   },
   "file_extension": ".py",
   "mimetype": "text/x-python",
   "name": "python",
   "nbconvert_exporter": "python",
   "pygments_lexer": "ipython3",
   "version": "3.11.3"
  },
  "orig_nbformat": 4,
  "vscode": {
   "interpreter": {
    "hash": "15af99fd1a1a3f0a3416ea421564e792a8676a13670c2eed127d89ab0518a27b"
   }
  }
 },
 "nbformat": 4,
 "nbformat_minor": 2
}
